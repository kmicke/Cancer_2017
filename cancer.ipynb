{
 "cells": [
  {
   "cell_type": "markdown",
   "metadata": {},
   "source": [
    "# CANCER (2017) ANALYSIS. DATA PRE-PROCESSING:"
   ]
  },
  {
   "cell_type": "code",
   "execution_count": 1,
   "metadata": {
    "scrolled": true
   },
   "outputs": [],
   "source": [
    "import pandas as pd\n",
    "import numpy as np\n",
    "import matplotlib.pyplot as plt\n",
    "import seaborn as sns\n",
    "import re"
   ]
  },
  {
   "cell_type": "code",
   "execution_count": 2,
   "metadata": {},
   "outputs": [],
   "source": [
    "def leave_digits(x):\n",
    "    x = x.replace('\\x86', '0') #replace crosses (nan values for this dataset) to 0 \n",
    "    return re.sub('[^0-9]', '', x)\n",
    "\n",
    "\n",
    "def count_to_categorical(cnt):\n",
    "    if cnt <= 500:\n",
    "        return 'cat_0'\n",
    "    elif cnt <= 1000:\n",
    "        return 'cat_1'\n",
    "    else:\n",
    "        return 'cat_2'"
   ]
  },
  {
   "cell_type": "code",
   "execution_count": 3,
   "metadata": {},
   "outputs": [
    {
     "data": {
      "text/html": [
       "<div>\n",
       "<style scoped>\n",
       "    .dataframe tbody tr th:only-of-type {\n",
       "        vertical-align: middle;\n",
       "    }\n",
       "\n",
       "    .dataframe tbody tr th {\n",
       "        vertical-align: top;\n",
       "    }\n",
       "\n",
       "    .dataframe thead th {\n",
       "        text-align: right;\n",
       "    }\n",
       "</style>\n",
       "<table border=\"1\" class=\"dataframe\">\n",
       "  <thead>\n",
       "    <tr style=\"text-align: right;\">\n",
       "      <th></th>\n",
       "      <th>State</th>\n",
       "      <th>Brain/ nervous system</th>\n",
       "      <th>Female breast</th>\n",
       "      <th>Colon &amp; rectum</th>\n",
       "      <th>Leukemia</th>\n",
       "      <th>Liver</th>\n",
       "      <th>Lung &amp; bronchus</th>\n",
       "      <th>Non-Hodgkin Lymphoma</th>\n",
       "      <th>Ovary</th>\n",
       "      <th>Pancreas</th>\n",
       "      <th>Prostate</th>\n",
       "    </tr>\n",
       "  </thead>\n",
       "  <tbody>\n",
       "    <tr>\n",
       "      <th>0</th>\n",
       "      <td>Alabama</td>\n",
       "      <td>320</td>\n",
       "      <td>650</td>\n",
       "      <td>940</td>\n",
       "      <td>420</td>\n",
       "      <td>470</td>\n",
       "      <td>3,200</td>\n",
       "      <td>320</td>\n",
       "      <td>250</td>\n",
       "      <td>710</td>\n",
       "      <td>450</td>\n",
       "    </tr>\n",
       "    <tr>\n",
       "      <th>1</th>\n",
       "      <td>Alaska</td>\n",
       "      <td></td>\n",
       "      <td>70</td>\n",
       "      <td>100</td>\n",
       "      <td></td>\n",
       "      <td>60</td>\n",
       "      <td>280</td>\n",
       "      <td></td>\n",
       "      <td></td>\n",
       "      <td>80</td>\n",
       "      <td>50</td>\n",
       "    </tr>\n",
       "    <tr>\n",
       "      <th>2</th>\n",
       "      <td>Arizona</td>\n",
       "      <td>380</td>\n",
       "      <td>810</td>\n",
       "      <td>1,020</td>\n",
       "      <td>550</td>\n",
       "      <td>660</td>\n",
       "      <td>2,820</td>\n",
       "      <td>430</td>\n",
       "      <td>310</td>\n",
       "      <td>930</td>\n",
       "      <td>600</td>\n",
       "    </tr>\n",
       "    <tr>\n",
       "      <th>3</th>\n",
       "      <td>Arkansas</td>\n",
       "      <td>180</td>\n",
       "      <td>420</td>\n",
       "      <td>600</td>\n",
       "      <td>250</td>\n",
       "      <td>280</td>\n",
       "      <td>2,160</td>\n",
       "      <td>210</td>\n",
       "      <td>150</td>\n",
       "      <td>430</td>\n",
       "      <td>260</td>\n",
       "    </tr>\n",
       "    <tr>\n",
       "      <th>4</th>\n",
       "      <td>California</td>\n",
       "      <td>1830</td>\n",
       "      <td>4440</td>\n",
       "      <td>5240</td>\n",
       "      <td>2610</td>\n",
       "      <td>3750</td>\n",
       "      <td>12,000</td>\n",
       "      <td>2140</td>\n",
       "      <td>1530</td>\n",
       "      <td>4510</td>\n",
       "      <td>3130</td>\n",
       "    </tr>\n",
       "  </tbody>\n",
       "</table>\n",
       "</div>"
      ],
      "text/plain": [
       "        State Brain/ nervous system Female breast Colon & rectum Leukemia  \\\n",
       "0     Alabama                   320           650            940      420   \n",
       "1      Alaska                                 70            100           \n",
       "2     Arizona                   380           810          1,020      550   \n",
       "3    Arkansas                   180           420            600      250   \n",
       "4  California                  1830          4440           5240     2610   \n",
       "\n",
       "  Liver Lung & bronchus Non-Hodgkin Lymphoma Ovary Pancreas Prostate  \n",
       "0   470           3,200                  320   250      710      450  \n",
       "1    60             280                                80       50  \n",
       "2   660           2,820                  430   310      930      600  \n",
       "3   280           2,160                  210   150      430      260  \n",
       "4  3750          12,000                 2140  1530     4510     3130  "
      ]
     },
     "execution_count": 3,
     "metadata": {},
     "output_type": "execute_result"
    }
   ],
   "source": [
    "#duomenų tvarkymui naudotas encoding\n",
    "df = pd.read_csv('/Users/kriri/Desktop/Python_stuff/cancer2017.csv', encoding = 'ISO-8859-1')\n",
    "df.head(n=5)"
   ]
  },
  {
   "cell_type": "markdown",
   "metadata": {},
   "source": [
    "ANOTACIJA | TIKSLAI:\n",
    "\n",
    "-Analizei pasirinktas USA 2017 metų vėžinių susirgimų iš 51 valstijos datasetas su 11 vėžinių susirgimų. \n",
    "\n",
    "Tikslai: \n",
    "\n",
    "-Nustatyti valstijas, \n",
    "kuriose susirgimų skaičius buvo aukščiausias ir vice versa; \n",
    "\n",
    "-Išskirtinai išsiaiškinti apie leukemijos paplitimo skaičių;\n",
    "\n",
    "-Palyginti koreliacijas tarp valstijų;\n",
    "\n",
    "-Išskirtinai palyginti leukemijos ir kepenų vėžio atvejus;\n",
    "\n",
    "-Patikrinti hipotezę dėl leukemijos ir kepenų vėžio ryšio;\n",
    "\n",
    "-Susiskirstyti leukemijos sergamumo skaičius rėžiais (kategorijomis iki 500, nuo 500 iki 1000, nuo 1000 iki likusių verčių ir panagrinėti duomenis pagal šias kategorijas."
   ]
  },
  {
   "cell_type": "code",
   "execution_count": 4,
   "metadata": {},
   "outputs": [
    {
     "data": {
      "text/plain": [
       "(51, 11)"
      ]
     },
     "execution_count": 4,
     "metadata": {},
     "output_type": "execute_result"
    }
   ],
   "source": [
    "df.shape"
   ]
  },
  {
   "cell_type": "code",
   "execution_count": 5,
   "metadata": {},
   "outputs": [
    {
     "data": {
      "text/plain": [
       "Index(['State', 'Brain/ nervous system', 'Female breast', 'Colon & rectum',\n",
       "       'Leukemia', 'Liver', 'Lung & bronchus', 'Non-Hodgkin Lymphoma', 'Ovary',\n",
       "       'Pancreas', 'Prostate'],\n",
       "      dtype='object')"
      ]
     },
     "execution_count": 5,
     "metadata": {},
     "output_type": "execute_result"
    }
   ],
   "source": [
    "df.columns"
   ]
  },
  {
   "cell_type": "code",
   "execution_count": 6,
   "metadata": {},
   "outputs": [],
   "source": [
    "cancer_names = df.drop(columns=['State']).columns"
   ]
  },
  {
   "cell_type": "code",
   "execution_count": 7,
   "metadata": {},
   "outputs": [
    {
     "data": {
      "text/plain": [
       "Index(['Brain/ nervous system', 'Female breast', 'Colon & rectum', 'Leukemia',\n",
       "       'Liver', 'Lung & bronchus', 'Non-Hodgkin Lymphoma', 'Ovary', 'Pancreas',\n",
       "       'Prostate'],\n",
       "      dtype='object')"
      ]
     },
     "execution_count": 7,
     "metadata": {},
     "output_type": "execute_result"
    }
   ],
   "source": [
    "cancer_names"
   ]
  },
  {
   "cell_type": "code",
   "execution_count": 8,
   "metadata": {},
   "outputs": [
    {
     "data": {
      "text/plain": [
       "RangeIndex(start=0, stop=51, step=1)"
      ]
     },
     "execution_count": 8,
     "metadata": {},
     "output_type": "execute_result"
    }
   ],
   "source": [
    "df.index"
   ]
  },
  {
   "cell_type": "code",
   "execution_count": 9,
   "metadata": {},
   "outputs": [
    {
     "data": {
      "text/html": [
       "<div>\n",
       "<style scoped>\n",
       "    .dataframe tbody tr th:only-of-type {\n",
       "        vertical-align: middle;\n",
       "    }\n",
       "\n",
       "    .dataframe tbody tr th {\n",
       "        vertical-align: top;\n",
       "    }\n",
       "\n",
       "    .dataframe thead th {\n",
       "        text-align: right;\n",
       "    }\n",
       "</style>\n",
       "<table border=\"1\" class=\"dataframe\">\n",
       "  <thead>\n",
       "    <tr style=\"text-align: right;\">\n",
       "      <th></th>\n",
       "      <th>State</th>\n",
       "      <th>Brain/ nervous system</th>\n",
       "      <th>Female breast</th>\n",
       "      <th>Colon &amp; rectum</th>\n",
       "      <th>Leukemia</th>\n",
       "      <th>Liver</th>\n",
       "      <th>Lung &amp; bronchus</th>\n",
       "      <th>Non-Hodgkin Lymphoma</th>\n",
       "      <th>Ovary</th>\n",
       "      <th>Pancreas</th>\n",
       "      <th>Prostate</th>\n",
       "    </tr>\n",
       "  </thead>\n",
       "  <tbody>\n",
       "    <tr>\n",
       "      <th>0</th>\n",
       "      <td>Alabama</td>\n",
       "      <td>320</td>\n",
       "      <td>650</td>\n",
       "      <td>940</td>\n",
       "      <td>420</td>\n",
       "      <td>470</td>\n",
       "      <td>3,200</td>\n",
       "      <td>320</td>\n",
       "      <td>250</td>\n",
       "      <td>710</td>\n",
       "      <td>450</td>\n",
       "    </tr>\n",
       "    <tr>\n",
       "      <th>1</th>\n",
       "      <td>Alaska</td>\n",
       "      <td></td>\n",
       "      <td>70</td>\n",
       "      <td>100</td>\n",
       "      <td></td>\n",
       "      <td>60</td>\n",
       "      <td>280</td>\n",
       "      <td></td>\n",
       "      <td></td>\n",
       "      <td>80</td>\n",
       "      <td>50</td>\n",
       "    </tr>\n",
       "    <tr>\n",
       "      <th>2</th>\n",
       "      <td>Arizona</td>\n",
       "      <td>380</td>\n",
       "      <td>810</td>\n",
       "      <td>1,020</td>\n",
       "      <td>550</td>\n",
       "      <td>660</td>\n",
       "      <td>2,820</td>\n",
       "      <td>430</td>\n",
       "      <td>310</td>\n",
       "      <td>930</td>\n",
       "      <td>600</td>\n",
       "    </tr>\n",
       "    <tr>\n",
       "      <th>3</th>\n",
       "      <td>Arkansas</td>\n",
       "      <td>180</td>\n",
       "      <td>420</td>\n",
       "      <td>600</td>\n",
       "      <td>250</td>\n",
       "      <td>280</td>\n",
       "      <td>2,160</td>\n",
       "      <td>210</td>\n",
       "      <td>150</td>\n",
       "      <td>430</td>\n",
       "      <td>260</td>\n",
       "    </tr>\n",
       "    <tr>\n",
       "      <th>4</th>\n",
       "      <td>California</td>\n",
       "      <td>1830</td>\n",
       "      <td>4440</td>\n",
       "      <td>5240</td>\n",
       "      <td>2610</td>\n",
       "      <td>3750</td>\n",
       "      <td>12,000</td>\n",
       "      <td>2140</td>\n",
       "      <td>1530</td>\n",
       "      <td>4510</td>\n",
       "      <td>3130</td>\n",
       "    </tr>\n",
       "  </tbody>\n",
       "</table>\n",
       "</div>"
      ],
      "text/plain": [
       "        State Brain/ nervous system Female breast Colon & rectum Leukemia  \\\n",
       "0     Alabama                   320           650            940      420   \n",
       "1      Alaska                                 70            100           \n",
       "2     Arizona                   380           810          1,020      550   \n",
       "3    Arkansas                   180           420            600      250   \n",
       "4  California                  1830          4440           5240     2610   \n",
       "\n",
       "  Liver Lung & bronchus Non-Hodgkin Lymphoma Ovary Pancreas Prostate  \n",
       "0   470           3,200                  320   250      710      450  \n",
       "1    60             280                                80       50  \n",
       "2   660           2,820                  430   310      930      600  \n",
       "3   280           2,160                  210   150      430      260  \n",
       "4  3750          12,000                 2140  1530     4510     3130  "
      ]
     },
     "execution_count": 9,
     "metadata": {},
     "output_type": "execute_result"
    }
   ],
   "source": [
    "df.head()"
   ]
  },
  {
   "cell_type": "code",
   "execution_count": 10,
   "metadata": {},
   "outputs": [
    {
     "data": {
      "text/html": [
       "<div>\n",
       "<style scoped>\n",
       "    .dataframe tbody tr th:only-of-type {\n",
       "        vertical-align: middle;\n",
       "    }\n",
       "\n",
       "    .dataframe tbody tr th {\n",
       "        vertical-align: top;\n",
       "    }\n",
       "\n",
       "    .dataframe thead th {\n",
       "        text-align: right;\n",
       "    }\n",
       "</style>\n",
       "<table border=\"1\" class=\"dataframe\">\n",
       "  <thead>\n",
       "    <tr style=\"text-align: right;\">\n",
       "      <th></th>\n",
       "      <th>State</th>\n",
       "      <th>Brain/ nervous system</th>\n",
       "      <th>Female breast</th>\n",
       "      <th>Colon &amp; rectum</th>\n",
       "      <th>Leukemia</th>\n",
       "      <th>Liver</th>\n",
       "      <th>Lung &amp; bronchus</th>\n",
       "      <th>Non-Hodgkin Lymphoma</th>\n",
       "      <th>Ovary</th>\n",
       "      <th>Pancreas</th>\n",
       "      <th>Prostate</th>\n",
       "    </tr>\n",
       "  </thead>\n",
       "  <tbody>\n",
       "    <tr>\n",
       "      <th>46</th>\n",
       "      <td>Virginia</td>\n",
       "      <td>390</td>\n",
       "      <td>1060</td>\n",
       "      <td>1190</td>\n",
       "      <td>550</td>\n",
       "      <td>670</td>\n",
       "      <td>3,810</td>\n",
       "      <td>490</td>\n",
       "      <td>370</td>\n",
       "      <td>1080</td>\n",
       "      <td>650</td>\n",
       "    </tr>\n",
       "    <tr>\n",
       "      <th>47</th>\n",
       "      <td>Washington</td>\n",
       "      <td>410</td>\n",
       "      <td>850</td>\n",
       "      <td>970</td>\n",
       "      <td>520</td>\n",
       "      <td>680</td>\n",
       "      <td>3,100</td>\n",
       "      <td>460</td>\n",
       "      <td>330</td>\n",
       "      <td>920</td>\n",
       "      <td>620</td>\n",
       "    </tr>\n",
       "    <tr>\n",
       "      <th>48</th>\n",
       "      <td>West Virginia</td>\n",
       "      <td>110</td>\n",
       "      <td>280</td>\n",
       "      <td>430</td>\n",
       "      <td>190</td>\n",
       "      <td>170</td>\n",
       "      <td>1,450</td>\n",
       "      <td>160</td>\n",
       "      <td>90</td>\n",
       "      <td>280</td>\n",
       "      <td>160</td>\n",
       "    </tr>\n",
       "    <tr>\n",
       "      <th>49</th>\n",
       "      <td>Wisconsin</td>\n",
       "      <td>360</td>\n",
       "      <td>740</td>\n",
       "      <td>880</td>\n",
       "      <td>540</td>\n",
       "      <td>440</td>\n",
       "      <td>3,070</td>\n",
       "      <td>420</td>\n",
       "      <td>220</td>\n",
       "      <td>870</td>\n",
       "      <td>570</td>\n",
       "    </tr>\n",
       "    <tr>\n",
       "      <th>50</th>\n",
       "      <td>Wyoming</td>\n",
       "      <td></td>\n",
       "      <td>60</td>\n",
       "      <td>80</td>\n",
       "      <td>60</td>\n",
       "      <td></td>\n",
       "      <td>220</td>\n",
       "      <td></td>\n",
       "      <td></td>\n",
       "      <td>70</td>\n",
       "      <td></td>\n",
       "    </tr>\n",
       "  </tbody>\n",
       "</table>\n",
       "</div>"
      ],
      "text/plain": [
       "            State Brain/ nervous system Female breast Colon & rectum Leukemia  \\\n",
       "46       Virginia                   390          1060           1190      550   \n",
       "47     Washington                   410           850            970      520   \n",
       "48  West Virginia                   110           280            430      190   \n",
       "49      Wisconsin                   360           740            880      540   \n",
       "50        Wyoming                                 60             80       60   \n",
       "\n",
       "   Liver Lung & bronchus Non-Hodgkin Lymphoma Ovary Pancreas Prostate  \n",
       "46   670           3,810                  490   370     1080      650  \n",
       "47   680           3,100                  460   330      920      620  \n",
       "48   170           1,450                  160    90      280      160  \n",
       "49   440           3,070                  420   220      870      570  \n",
       "50                  220                                70          "
      ]
     },
     "execution_count": 10,
     "metadata": {},
     "output_type": "execute_result"
    }
   ],
   "source": [
    "df.tail()"
   ]
  },
  {
   "cell_type": "code",
   "execution_count": 11,
   "metadata": {},
   "outputs": [
    {
     "data": {
      "text/plain": [
       "State                    object\n",
       "Brain/ nervous system    object\n",
       "Female breast            object\n",
       "Colon & rectum           object\n",
       "Leukemia                 object\n",
       "Liver                    object\n",
       "Lung & bronchus          object\n",
       "Non-Hodgkin Lymphoma     object\n",
       "Ovary                    object\n",
       "Pancreas                 object\n",
       "Prostate                 object\n",
       "dtype: object"
      ]
     },
     "execution_count": 11,
     "metadata": {},
     "output_type": "execute_result"
    }
   ],
   "source": [
    "df.dtypes"
   ]
  },
  {
   "cell_type": "code",
   "execution_count": 12,
   "metadata": {},
   "outputs": [],
   "source": [
    "for column_name in cancer_names:\n",
    "    df[column_name] = df[column_name].apply(leave_digits).astype(int)"
   ]
  },
  {
   "cell_type": "code",
   "execution_count": 13,
   "metadata": {},
   "outputs": [
    {
     "data": {
      "text/plain": [
       "State                    object\n",
       "Brain/ nervous system     int64\n",
       "Female breast             int64\n",
       "Colon & rectum            int64\n",
       "Leukemia                  int64\n",
       "Liver                     int64\n",
       "Lung & bronchus           int64\n",
       "Non-Hodgkin Lymphoma      int64\n",
       "Ovary                     int64\n",
       "Pancreas                  int64\n",
       "Prostate                  int64\n",
       "dtype: object"
      ]
     },
     "execution_count": 13,
     "metadata": {},
     "output_type": "execute_result"
    }
   ],
   "source": [
    "df.dtypes"
   ]
  },
  {
   "cell_type": "code",
   "execution_count": 14,
   "metadata": {},
   "outputs": [],
   "source": [
    "df['all'] = df.drop(columns=['State']).sum(axis=1)"
   ]
  },
  {
   "cell_type": "code",
   "execution_count": 15,
   "metadata": {},
   "outputs": [
    {
     "data": {
      "text/html": [
       "<div>\n",
       "<style scoped>\n",
       "    .dataframe tbody tr th:only-of-type {\n",
       "        vertical-align: middle;\n",
       "    }\n",
       "\n",
       "    .dataframe tbody tr th {\n",
       "        vertical-align: top;\n",
       "    }\n",
       "\n",
       "    .dataframe thead th {\n",
       "        text-align: right;\n",
       "    }\n",
       "</style>\n",
       "<table border=\"1\" class=\"dataframe\">\n",
       "  <thead>\n",
       "    <tr style=\"text-align: right;\">\n",
       "      <th></th>\n",
       "      <th>State</th>\n",
       "      <th>Brain/ nervous system</th>\n",
       "      <th>Female breast</th>\n",
       "      <th>Colon &amp; rectum</th>\n",
       "      <th>Leukemia</th>\n",
       "      <th>Liver</th>\n",
       "      <th>Lung &amp; bronchus</th>\n",
       "      <th>Non-Hodgkin Lymphoma</th>\n",
       "      <th>Ovary</th>\n",
       "      <th>Pancreas</th>\n",
       "      <th>Prostate</th>\n",
       "      <th>all</th>\n",
       "    </tr>\n",
       "  </thead>\n",
       "  <tbody>\n",
       "    <tr>\n",
       "      <th>0</th>\n",
       "      <td>Alabama</td>\n",
       "      <td>320</td>\n",
       "      <td>650</td>\n",
       "      <td>940</td>\n",
       "      <td>420</td>\n",
       "      <td>470</td>\n",
       "      <td>3200</td>\n",
       "      <td>320</td>\n",
       "      <td>250</td>\n",
       "      <td>710</td>\n",
       "      <td>450</td>\n",
       "      <td>7730</td>\n",
       "    </tr>\n",
       "    <tr>\n",
       "      <th>1</th>\n",
       "      <td>Alaska</td>\n",
       "      <td>0</td>\n",
       "      <td>70</td>\n",
       "      <td>100</td>\n",
       "      <td>0</td>\n",
       "      <td>60</td>\n",
       "      <td>280</td>\n",
       "      <td>0</td>\n",
       "      <td>0</td>\n",
       "      <td>80</td>\n",
       "      <td>50</td>\n",
       "      <td>640</td>\n",
       "    </tr>\n",
       "    <tr>\n",
       "      <th>2</th>\n",
       "      <td>Arizona</td>\n",
       "      <td>380</td>\n",
       "      <td>810</td>\n",
       "      <td>1020</td>\n",
       "      <td>550</td>\n",
       "      <td>660</td>\n",
       "      <td>2820</td>\n",
       "      <td>430</td>\n",
       "      <td>310</td>\n",
       "      <td>930</td>\n",
       "      <td>600</td>\n",
       "      <td>8510</td>\n",
       "    </tr>\n",
       "    <tr>\n",
       "      <th>3</th>\n",
       "      <td>Arkansas</td>\n",
       "      <td>180</td>\n",
       "      <td>420</td>\n",
       "      <td>600</td>\n",
       "      <td>250</td>\n",
       "      <td>280</td>\n",
       "      <td>2160</td>\n",
       "      <td>210</td>\n",
       "      <td>150</td>\n",
       "      <td>430</td>\n",
       "      <td>260</td>\n",
       "      <td>4940</td>\n",
       "    </tr>\n",
       "    <tr>\n",
       "      <th>4</th>\n",
       "      <td>California</td>\n",
       "      <td>1830</td>\n",
       "      <td>4440</td>\n",
       "      <td>5240</td>\n",
       "      <td>2610</td>\n",
       "      <td>3750</td>\n",
       "      <td>12000</td>\n",
       "      <td>2140</td>\n",
       "      <td>1530</td>\n",
       "      <td>4510</td>\n",
       "      <td>3130</td>\n",
       "      <td>41180</td>\n",
       "    </tr>\n",
       "    <tr>\n",
       "      <th>5</th>\n",
       "      <td>Colorado</td>\n",
       "      <td>270</td>\n",
       "      <td>570</td>\n",
       "      <td>660</td>\n",
       "      <td>340</td>\n",
       "      <td>380</td>\n",
       "      <td>1640</td>\n",
       "      <td>260</td>\n",
       "      <td>240</td>\n",
       "      <td>580</td>\n",
       "      <td>450</td>\n",
       "      <td>5390</td>\n",
       "    </tr>\n",
       "    <tr>\n",
       "      <th>6</th>\n",
       "      <td>Connecticut</td>\n",
       "      <td>190</td>\n",
       "      <td>430</td>\n",
       "      <td>450</td>\n",
       "      <td>300</td>\n",
       "      <td>300</td>\n",
       "      <td>1630</td>\n",
       "      <td>230</td>\n",
       "      <td>170</td>\n",
       "      <td>490</td>\n",
       "      <td>310</td>\n",
       "      <td>4500</td>\n",
       "    </tr>\n",
       "    <tr>\n",
       "      <th>7</th>\n",
       "      <td>Delaware</td>\n",
       "      <td>50</td>\n",
       "      <td>130</td>\n",
       "      <td>150</td>\n",
       "      <td>70</td>\n",
       "      <td>110</td>\n",
       "      <td>590</td>\n",
       "      <td>70</td>\n",
       "      <td>50</td>\n",
       "      <td>150</td>\n",
       "      <td>90</td>\n",
       "      <td>1460</td>\n",
       "    </tr>\n",
       "    <tr>\n",
       "      <th>8</th>\n",
       "      <td>District of Columbia</td>\n",
       "      <td>0</td>\n",
       "      <td>100</td>\n",
       "      <td>90</td>\n",
       "      <td>0</td>\n",
       "      <td>90</td>\n",
       "      <td>220</td>\n",
       "      <td>0</td>\n",
       "      <td>0</td>\n",
       "      <td>100</td>\n",
       "      <td>70</td>\n",
       "      <td>670</td>\n",
       "    </tr>\n",
       "    <tr>\n",
       "      <th>9</th>\n",
       "      <td>Florida</td>\n",
       "      <td>1250</td>\n",
       "      <td>2910</td>\n",
       "      <td>3620</td>\n",
       "      <td>1800</td>\n",
       "      <td>2020</td>\n",
       "      <td>11790</td>\n",
       "      <td>1510</td>\n",
       "      <td>970</td>\n",
       "      <td>3170</td>\n",
       "      <td>2050</td>\n",
       "      <td>31090</td>\n",
       "    </tr>\n",
       "  </tbody>\n",
       "</table>\n",
       "</div>"
      ],
      "text/plain": [
       "                  State  Brain/ nervous system  Female breast  Colon & rectum  \\\n",
       "0               Alabama                    320            650             940   \n",
       "1                Alaska                      0             70             100   \n",
       "2               Arizona                    380            810            1020   \n",
       "3              Arkansas                    180            420             600   \n",
       "4            California                   1830           4440            5240   \n",
       "5              Colorado                    270            570             660   \n",
       "6           Connecticut                    190            430             450   \n",
       "7              Delaware                     50            130             150   \n",
       "8  District of Columbia                      0            100              90   \n",
       "9               Florida                   1250           2910            3620   \n",
       "\n",
       "   Leukemia  Liver  Lung & bronchus  Non-Hodgkin Lymphoma  Ovary  Pancreas  \\\n",
       "0       420    470             3200                   320    250       710   \n",
       "1         0     60              280                     0      0        80   \n",
       "2       550    660             2820                   430    310       930   \n",
       "3       250    280             2160                   210    150       430   \n",
       "4      2610   3750            12000                  2140   1530      4510   \n",
       "5       340    380             1640                   260    240       580   \n",
       "6       300    300             1630                   230    170       490   \n",
       "7        70    110              590                    70     50       150   \n",
       "8         0     90              220                     0      0       100   \n",
       "9      1800   2020            11790                  1510    970      3170   \n",
       "\n",
       "   Prostate    all  \n",
       "0       450   7730  \n",
       "1        50    640  \n",
       "2       600   8510  \n",
       "3       260   4940  \n",
       "4      3130  41180  \n",
       "5       450   5390  \n",
       "6       310   4500  \n",
       "7        90   1460  \n",
       "8        70    670  \n",
       "9      2050  31090  "
      ]
     },
     "execution_count": 15,
     "metadata": {},
     "output_type": "execute_result"
    }
   ],
   "source": [
    "df.head(10)"
   ]
  },
  {
   "cell_type": "markdown",
   "metadata": {},
   "source": [
    "# DATA ANALYSIS:"
   ]
  },
  {
   "cell_type": "code",
   "execution_count": 16,
   "metadata": {},
   "outputs": [
    {
     "data": {
      "text/plain": [
       "0      420\n",
       "1        0\n",
       "2      550\n",
       "3      250\n",
       "4     2610\n",
       "5      340\n",
       "6      300\n",
       "7       70\n",
       "8        0\n",
       "9     1800\n",
       "10     620\n",
       "11      90\n",
       "12     110\n",
       "13     990\n",
       "14     550\n",
       "15     260\n",
       "16     260\n",
       "17     390\n",
       "18     320\n",
       "19     130\n",
       "20     410\n",
       "21     540\n",
       "22     830\n",
       "23     480\n",
       "24     230\n",
       "25     550\n",
       "26      80\n",
       "27     150\n",
       "28     200\n",
       "29     110\n",
       "30     640\n",
       "31     150\n",
       "32    1460\n",
       "33     760\n",
       "34      60\n",
       "35     990\n",
       "36     340\n",
       "37     320\n",
       "38    1210\n",
       "39      90\n",
       "40     380\n",
       "41      90\n",
       "42     570\n",
       "43    1690\n",
       "44     170\n",
       "45      50\n",
       "46     550\n",
       "47     520\n",
       "48     190\n",
       "49     540\n",
       "50      60\n",
       "Name: Leukemia, dtype: int64"
      ]
     },
     "execution_count": 16,
     "metadata": {},
     "output_type": "execute_result"
    }
   ],
   "source": [
    "df.Leukemia"
   ]
  },
  {
   "cell_type": "code",
   "execution_count": 17,
   "metadata": {},
   "outputs": [
    {
     "data": {
      "text/plain": [
       "[Text(0, 0.5, 'Cases amount fraction'),\n",
       " Text(0.5, 0, 'Cancer cases amount'),\n",
       " Text(0.5, 1.0, 'LEUKEMIA HISTOGRAM')]"
      ]
     },
     "execution_count": 17,
     "metadata": {},
     "output_type": "execute_result"
    },
    {
     "data": {
      "image/png": "[encoded data removed]",
      "text/plain": [
       "<Figure size 432x288 with 1 Axes>"
      ]
     },
     "metadata": {
      "needs_background": "light"
     },
     "output_type": "display_data"
    }
   ],
   "source": [
    "#mane domina pamatyti koks leukemijos susirgimu kiekis sitame datasete dazniausiai pasitaikydavo\n",
    "#ziurint per visas states\n",
    "ax = sns.distplot(df.Leukemia)\n",
    "ax.set(xlabel='Cancer cases amount', ylabel='Cases amount fraction', title='LEUKEMIA HISTOGRAM')\n"
   ]
  },
  {
   "cell_type": "code",
   "execution_count": 18,
   "metadata": {},
   "outputs": [
    {
     "data": {
      "text/html": [
       "<div>\n",
       "<style scoped>\n",
       "    .dataframe tbody tr th:only-of-type {\n",
       "        vertical-align: middle;\n",
       "    }\n",
       "\n",
       "    .dataframe tbody tr th {\n",
       "        vertical-align: top;\n",
       "    }\n",
       "\n",
       "    .dataframe thead th {\n",
       "        text-align: right;\n",
       "    }\n",
       "</style>\n",
       "<table border=\"1\" class=\"dataframe\">\n",
       "  <thead>\n",
       "    <tr style=\"text-align: right;\">\n",
       "      <th></th>\n",
       "      <th>State</th>\n",
       "      <th>all</th>\n",
       "    </tr>\n",
       "  </thead>\n",
       "  <tbody>\n",
       "    <tr>\n",
       "      <th>4</th>\n",
       "      <td>California</td>\n",
       "      <td>41180</td>\n",
       "    </tr>\n",
       "    <tr>\n",
       "      <th>9</th>\n",
       "      <td>Florida</td>\n",
       "      <td>31090</td>\n",
       "    </tr>\n",
       "    <tr>\n",
       "      <th>43</th>\n",
       "      <td>Texas</td>\n",
       "      <td>28210</td>\n",
       "    </tr>\n",
       "    <tr>\n",
       "      <th>32</th>\n",
       "      <td>New York</td>\n",
       "      <td>24420</td>\n",
       "    </tr>\n",
       "    <tr>\n",
       "      <th>38</th>\n",
       "      <td>Pennsylvania</td>\n",
       "      <td>19850</td>\n",
       "    </tr>\n",
       "  </tbody>\n",
       "</table>\n",
       "</div>"
      ],
      "text/plain": [
       "           State    all\n",
       "4     California  41180\n",
       "9        Florida  31090\n",
       "43         Texas  28210\n",
       "32      New York  24420\n",
       "38  Pennsylvania  19850"
      ]
     },
     "execution_count": 18,
     "metadata": {},
     "output_type": "execute_result"
    }
   ],
   "source": [
    "top5_all = df.sort_values(by='all', ascending=False).head(5)[['State', 'all']]\n",
    "top5_all"
   ]
  },
  {
   "cell_type": "code",
   "execution_count": 19,
   "metadata": {},
   "outputs": [
    {
     "data": {
      "text/plain": [
       "<matplotlib.legend.Legend at 0x11d658fd0>"
      ]
     },
     "execution_count": 19,
     "metadata": {},
     "output_type": "execute_result"
    },
    {
     "data": {
      "image/png": "[encoded data removed]",
      "text/plain": [
       "<Figure size 432x288 with 1 Axes>"
      ]
     },
     "metadata": {
      "needs_background": "light"
     },
     "output_type": "display_data"
    }
   ],
   "source": [
    "#pasiziuriu top5 valstijas su daugiausia susirgimu\n",
    "plt.plot(top5_all['State'], top5_all['all'], 'bo', label='Cancer cases')\n",
    "plt.grid()\n",
    "plt.title('TOP 5 STATES WITH MOST CANCER CASES')\n",
    "plt.xlabel('State')\n",
    "plt.legend()"
   ]
  },
  {
   "cell_type": "code",
   "execution_count": 20,
   "metadata": {},
   "outputs": [
    {
     "data": {
      "text/html": [
       "<div>\n",
       "<style scoped>\n",
       "    .dataframe tbody tr th:only-of-type {\n",
       "        vertical-align: middle;\n",
       "    }\n",
       "\n",
       "    .dataframe tbody tr th {\n",
       "        vertical-align: top;\n",
       "    }\n",
       "\n",
       "    .dataframe thead th {\n",
       "        text-align: right;\n",
       "    }\n",
       "</style>\n",
       "<table border=\"1\" class=\"dataframe\">\n",
       "  <thead>\n",
       "    <tr style=\"text-align: right;\">\n",
       "      <th></th>\n",
       "      <th>State</th>\n",
       "      <th>all</th>\n",
       "    </tr>\n",
       "  </thead>\n",
       "  <tbody>\n",
       "    <tr>\n",
       "      <th>50</th>\n",
       "      <td>Wyoming</td>\n",
       "      <td>490</td>\n",
       "    </tr>\n",
       "    <tr>\n",
       "      <th>1</th>\n",
       "      <td>Alaska</td>\n",
       "      <td>640</td>\n",
       "    </tr>\n",
       "    <tr>\n",
       "      <th>8</th>\n",
       "      <td>District of Columbia</td>\n",
       "      <td>670</td>\n",
       "    </tr>\n",
       "    <tr>\n",
       "      <th>34</th>\n",
       "      <td>North Dakota</td>\n",
       "      <td>750</td>\n",
       "    </tr>\n",
       "    <tr>\n",
       "      <th>45</th>\n",
       "      <td>Vermont</td>\n",
       "      <td>900</td>\n",
       "    </tr>\n",
       "  </tbody>\n",
       "</table>\n",
       "</div>"
      ],
      "text/plain": [
       "                   State  all\n",
       "50               Wyoming  490\n",
       "1                 Alaska  640\n",
       "8   District of Columbia  670\n",
       "34          North Dakota  750\n",
       "45               Vermont  900"
      ]
     },
     "execution_count": 20,
     "metadata": {},
     "output_type": "execute_result"
    }
   ],
   "source": [
    "top5_minimal_amount = df.sort_values(by='all', ascending=True).head(5)[['State', 'all']]\n",
    "top5_minimal_amount"
   ]
  },
  {
   "cell_type": "code",
   "execution_count": 21,
   "metadata": {
    "scrolled": true
   },
   "outputs": [
    {
     "data": {
      "text/plain": [
       "([<matplotlib.axis.XTick at 0x11d7a48e0>,\n",
       "  <matplotlib.axis.XTick at 0x11d7a48b0>,\n",
       "  <matplotlib.axis.XTick at 0x11d72bd60>,\n",
       "  <matplotlib.axis.XTick at 0x11d7d7250>,\n",
       "  <matplotlib.axis.XTick at 0x11d7d7760>],\n",
       " <a list of 5 Text major ticklabel objects>)"
      ]
     },
     "execution_count": 21,
     "metadata": {},
     "output_type": "execute_result"
    },
    {
     "data": {
      "image/png": "[encoded data removed]",
      "text/plain": [
       "<Figure size 432x288 with 1 Axes>"
      ]
     },
     "metadata": {
      "needs_background": "light"
     },
     "output_type": "display_data"
    }
   ],
   "source": [
    "#paziuriu top5 states kur susergama maziausiai\n",
    "barlist = plt.bar(top5_minimal_amount['State'], top5_minimal_amount['all'])\n",
    "barlist[0].set_color('r')\n",
    "plt.title('TOP 5 STATES WITH LESSER CANCER CASES')\n",
    "plt.ylabel('Cancer cases')\n",
    "plt.xticks(top5_minimal_amount['State'], rotation=55)"
   ]
  },
  {
   "cell_type": "code",
   "execution_count": 22,
   "metadata": {},
   "outputs": [],
   "source": [
    "#aš neturiu kategorinių variables šitame dataset'e apart STATE, iš kurios nebūtų tikslinga kažka daryti su kateg. \n",
    "#kintamaisiais, tai sintetiškai susiskirsčiau į categories \n",
    "#su rėžiais Leukemia cases iki 500, 500-1000 ir nuo 1000 iki..."
   ]
  },
  {
   "cell_type": "code",
   "execution_count": 23,
   "metadata": {},
   "outputs": [],
   "source": [
    "df['Leukemia_cat'] = df['Leukemia'].apply(count_to_categorical)"
   ]
  },
  {
   "cell_type": "code",
   "execution_count": 24,
   "metadata": {
    "scrolled": true
   },
   "outputs": [
    {
     "data": {
      "text/plain": [
       "<matplotlib.axes._subplots.AxesSubplot at 0x1194b2370>"
      ]
     },
     "execution_count": 24,
     "metadata": {},
     "output_type": "execute_result"
    },
    {
     "data": {
      "image/png": "[encoded data removed]",
      "text/plain": [
       "<Figure size 432x288 with 1 Axes>"
      ]
     },
     "metadata": {
      "needs_background": "light"
     },
     "output_type": "display_data"
    }
   ],
   "source": [
    "sns.countplot(df['Leukemia_cat'])"
   ]
  },
  {
   "cell_type": "code",
   "execution_count": 25,
   "metadata": {},
   "outputs": [
    {
     "data": {
      "text/html": [
       "<div>\n",
       "<style scoped>\n",
       "    .dataframe tbody tr th:only-of-type {\n",
       "        vertical-align: middle;\n",
       "    }\n",
       "\n",
       "    .dataframe tbody tr th {\n",
       "        vertical-align: top;\n",
       "    }\n",
       "\n",
       "    .dataframe thead tr th {\n",
       "        text-align: left;\n",
       "    }\n",
       "\n",
       "    .dataframe thead tr:last-of-type th {\n",
       "        text-align: right;\n",
       "    }\n",
       "</style>\n",
       "<table border=\"1\" class=\"dataframe\">\n",
       "  <thead>\n",
       "    <tr>\n",
       "      <th></th>\n",
       "      <th colspan=\"3\" halign=\"left\">Brain/ nervous system</th>\n",
       "      <th colspan=\"3\" halign=\"left\">Female breast</th>\n",
       "      <th colspan=\"3\" halign=\"left\">Colon &amp; rectum</th>\n",
       "      <th>Leukemia</th>\n",
       "      <th>...</th>\n",
       "      <th>Ovary</th>\n",
       "      <th colspan=\"3\" halign=\"left\">Pancreas</th>\n",
       "      <th colspan=\"3\" halign=\"left\">Prostate</th>\n",
       "      <th colspan=\"3\" halign=\"left\">all</th>\n",
       "    </tr>\n",
       "    <tr>\n",
       "      <th></th>\n",
       "      <th>sum</th>\n",
       "      <th>min</th>\n",
       "      <th>max</th>\n",
       "      <th>sum</th>\n",
       "      <th>min</th>\n",
       "      <th>max</th>\n",
       "      <th>sum</th>\n",
       "      <th>min</th>\n",
       "      <th>max</th>\n",
       "      <th>sum</th>\n",
       "      <th>...</th>\n",
       "      <th>max</th>\n",
       "      <th>sum</th>\n",
       "      <th>min</th>\n",
       "      <th>max</th>\n",
       "      <th>sum</th>\n",
       "      <th>min</th>\n",
       "      <th>max</th>\n",
       "      <th>sum</th>\n",
       "      <th>min</th>\n",
       "      <th>max</th>\n",
       "    </tr>\n",
       "    <tr>\n",
       "      <th>Leukemia_cat</th>\n",
       "      <th></th>\n",
       "      <th></th>\n",
       "      <th></th>\n",
       "      <th></th>\n",
       "      <th></th>\n",
       "      <th></th>\n",
       "      <th></th>\n",
       "      <th></th>\n",
       "      <th></th>\n",
       "      <th></th>\n",
       "      <th></th>\n",
       "      <th></th>\n",
       "      <th></th>\n",
       "      <th></th>\n",
       "      <th></th>\n",
       "      <th></th>\n",
       "      <th></th>\n",
       "      <th></th>\n",
       "      <th></th>\n",
       "      <th></th>\n",
       "      <th></th>\n",
       "    </tr>\n",
       "  </thead>\n",
       "  <tbody>\n",
       "    <tr>\n",
       "      <th>cat_0</th>\n",
       "      <td>4480</td>\n",
       "      <td>0</td>\n",
       "      <td>320</td>\n",
       "      <td>10530</td>\n",
       "      <td>60</td>\n",
       "      <td>820</td>\n",
       "      <td>13730</td>\n",
       "      <td>80</td>\n",
       "      <td>940</td>\n",
       "      <td>6500</td>\n",
       "      <td>...</td>\n",
       "      <td>260</td>\n",
       "      <td>11480</td>\n",
       "      <td>70</td>\n",
       "      <td>840</td>\n",
       "      <td>7310</td>\n",
       "      <td>0</td>\n",
       "      <td>470</td>\n",
       "      <td>114070</td>\n",
       "      <td>490</td>\n",
       "      <td>7730</td>\n",
       "    </tr>\n",
       "    <tr>\n",
       "      <th>cat_1</th>\n",
       "      <td>6280</td>\n",
       "      <td>330</td>\n",
       "      <td>640</td>\n",
       "      <td>15570</td>\n",
       "      <td>740</td>\n",
       "      <td>1690</td>\n",
       "      <td>18700</td>\n",
       "      <td>880</td>\n",
       "      <td>2130</td>\n",
       "      <td>9200</td>\n",
       "      <td>...</td>\n",
       "      <td>570</td>\n",
       "      <td>16310</td>\n",
       "      <td>870</td>\n",
       "      <td>1810</td>\n",
       "      <td>9800</td>\n",
       "      <td>500</td>\n",
       "      <td>1040</td>\n",
       "      <td>161470</td>\n",
       "      <td>8110</td>\n",
       "      <td>18000</td>\n",
       "    </tr>\n",
       "    <tr>\n",
       "      <th>cat_2</th>\n",
       "      <td>5790</td>\n",
       "      <td>700</td>\n",
       "      <td>1830</td>\n",
       "      <td>14490</td>\n",
       "      <td>1900</td>\n",
       "      <td>4440</td>\n",
       "      <td>17820</td>\n",
       "      <td>2390</td>\n",
       "      <td>5240</td>\n",
       "      <td>8770</td>\n",
       "      <td>...</td>\n",
       "      <td>1530</td>\n",
       "      <td>15320</td>\n",
       "      <td>2110</td>\n",
       "      <td>4510</td>\n",
       "      <td>9590</td>\n",
       "      <td>1200</td>\n",
       "      <td>3130</td>\n",
       "      <td>144750</td>\n",
       "      <td>19850</td>\n",
       "      <td>41180</td>\n",
       "    </tr>\n",
       "  </tbody>\n",
       "</table>\n",
       "<p>3 rows × 33 columns</p>\n",
       "</div>"
      ],
      "text/plain": [
       "             Brain/ nervous system            Female breast              \\\n",
       "                               sum  min   max           sum   min   max   \n",
       "Leukemia_cat                                                              \n",
       "cat_0                         4480    0   320         10530    60   820   \n",
       "cat_1                         6280  330   640         15570   740  1690   \n",
       "cat_2                         5790  700  1830         14490  1900  4440   \n",
       "\n",
       "             Colon & rectum             Leukemia  ... Ovary Pancreas        \\\n",
       "                        sum   min   max      sum  ...   max      sum   min   \n",
       "Leukemia_cat                                      ...                        \n",
       "cat_0                 13730    80   940     6500  ...   260    11480    70   \n",
       "cat_1                 18700   880  2130     9200  ...   570    16310   870   \n",
       "cat_2                 17820  2390  5240     8770  ...  1530    15320  2110   \n",
       "\n",
       "                   Prostate                 all                \n",
       "               max      sum   min   max     sum    min    max  \n",
       "Leukemia_cat                                                   \n",
       "cat_0          840     7310     0   470  114070    490   7730  \n",
       "cat_1         1810     9800   500  1040  161470   8110  18000  \n",
       "cat_2         4510     9590  1200  3130  144750  19850  41180  \n",
       "\n",
       "[3 rows x 33 columns]"
      ]
     },
     "execution_count": 25,
     "metadata": {},
     "output_type": "execute_result"
    }
   ],
   "source": [
    "df.drop(columns=['State']).groupby('Leukemia_cat').agg(['sum', 'min', 'max']) "
   ]
  },
  {
   "cell_type": "code",
   "execution_count": 26,
   "metadata": {},
   "outputs": [],
   "source": [
    "cancer_names_fraction = [cn + '_fraction' for cn in cancer_names]"
   ]
  },
  {
   "cell_type": "code",
   "execution_count": 27,
   "metadata": {},
   "outputs": [],
   "source": [
    "for column_name in cancer_names:\n",
    "    df[f'{column_name}_fraction'] = df[column_name] / df['all']"
   ]
  },
  {
   "cell_type": "code",
   "execution_count": 28,
   "metadata": {},
   "outputs": [
    {
     "data": {
      "text/html": [
       "<div>\n",
       "<style scoped>\n",
       "    .dataframe tbody tr th:only-of-type {\n",
       "        vertical-align: middle;\n",
       "    }\n",
       "\n",
       "    .dataframe tbody tr th {\n",
       "        vertical-align: top;\n",
       "    }\n",
       "\n",
       "    .dataframe thead th {\n",
       "        text-align: right;\n",
       "    }\n",
       "</style>\n",
       "<table border=\"1\" class=\"dataframe\">\n",
       "  <thead>\n",
       "    <tr style=\"text-align: right;\">\n",
       "      <th></th>\n",
       "      <th>Brain/ nervous system_fraction</th>\n",
       "      <th>Female breast_fraction</th>\n",
       "      <th>Colon &amp; rectum_fraction</th>\n",
       "      <th>Leukemia_fraction</th>\n",
       "      <th>Liver_fraction</th>\n",
       "      <th>Lung &amp; bronchus_fraction</th>\n",
       "      <th>Non-Hodgkin Lymphoma_fraction</th>\n",
       "      <th>Ovary_fraction</th>\n",
       "      <th>Pancreas_fraction</th>\n",
       "      <th>Prostate_fraction</th>\n",
       "    </tr>\n",
       "  </thead>\n",
       "  <tbody>\n",
       "    <tr>\n",
       "      <th>Brain/ nervous system_fraction</th>\n",
       "      <td>1.000000</td>\n",
       "      <td>-0.366978</td>\n",
       "      <td>-0.604899</td>\n",
       "      <td>0.213491</td>\n",
       "      <td>0.056993</td>\n",
       "      <td>-0.383959</td>\n",
       "      <td>0.698749</td>\n",
       "      <td>0.605681</td>\n",
       "      <td>-0.448462</td>\n",
       "      <td>0.151760</td>\n",
       "    </tr>\n",
       "    <tr>\n",
       "      <th>Female breast_fraction</th>\n",
       "      <td>-0.366978</td>\n",
       "      <td>1.000000</td>\n",
       "      <td>0.396417</td>\n",
       "      <td>-0.123594</td>\n",
       "      <td>0.309241</td>\n",
       "      <td>-0.509097</td>\n",
       "      <td>-0.336884</td>\n",
       "      <td>-0.151219</td>\n",
       "      <td>0.652646</td>\n",
       "      <td>0.287692</td>\n",
       "    </tr>\n",
       "    <tr>\n",
       "      <th>Colon &amp; rectum_fraction</th>\n",
       "      <td>-0.604899</td>\n",
       "      <td>0.396417</td>\n",
       "      <td>1.000000</td>\n",
       "      <td>0.072921</td>\n",
       "      <td>-0.163372</td>\n",
       "      <td>0.018272</td>\n",
       "      <td>-0.559269</td>\n",
       "      <td>-0.559201</td>\n",
       "      <td>0.405155</td>\n",
       "      <td>-0.023601</td>\n",
       "    </tr>\n",
       "    <tr>\n",
       "      <th>Leukemia_fraction</th>\n",
       "      <td>0.213491</td>\n",
       "      <td>-0.123594</td>\n",
       "      <td>0.072921</td>\n",
       "      <td>1.000000</td>\n",
       "      <td>-0.696308</td>\n",
       "      <td>-0.034846</td>\n",
       "      <td>0.165775</td>\n",
       "      <td>0.105606</td>\n",
       "      <td>-0.009885</td>\n",
       "      <td>-0.417394</td>\n",
       "    </tr>\n",
       "    <tr>\n",
       "      <th>Liver_fraction</th>\n",
       "      <td>0.056993</td>\n",
       "      <td>0.309241</td>\n",
       "      <td>-0.163372</td>\n",
       "      <td>-0.696308</td>\n",
       "      <td>1.000000</td>\n",
       "      <td>-0.521070</td>\n",
       "      <td>0.157121</td>\n",
       "      <td>0.221984</td>\n",
       "      <td>0.155552</td>\n",
       "      <td>0.421669</td>\n",
       "    </tr>\n",
       "    <tr>\n",
       "      <th>Lung &amp; bronchus_fraction</th>\n",
       "      <td>-0.383959</td>\n",
       "      <td>-0.509097</td>\n",
       "      <td>0.018272</td>\n",
       "      <td>-0.034846</td>\n",
       "      <td>-0.521070</td>\n",
       "      <td>1.000000</td>\n",
       "      <td>-0.423566</td>\n",
       "      <td>-0.515982</td>\n",
       "      <td>-0.327981</td>\n",
       "      <td>-0.551119</td>\n",
       "    </tr>\n",
       "    <tr>\n",
       "      <th>Non-Hodgkin Lymphoma_fraction</th>\n",
       "      <td>0.698749</td>\n",
       "      <td>-0.336884</td>\n",
       "      <td>-0.559269</td>\n",
       "      <td>0.165775</td>\n",
       "      <td>0.157121</td>\n",
       "      <td>-0.423566</td>\n",
       "      <td>1.000000</td>\n",
       "      <td>0.856492</td>\n",
       "      <td>-0.535598</td>\n",
       "      <td>-0.036992</td>\n",
       "    </tr>\n",
       "    <tr>\n",
       "      <th>Ovary_fraction</th>\n",
       "      <td>0.605681</td>\n",
       "      <td>-0.151219</td>\n",
       "      <td>-0.559201</td>\n",
       "      <td>0.105606</td>\n",
       "      <td>0.221984</td>\n",
       "      <td>-0.515982</td>\n",
       "      <td>0.856492</td>\n",
       "      <td>1.000000</td>\n",
       "      <td>-0.422206</td>\n",
       "      <td>0.080682</td>\n",
       "    </tr>\n",
       "    <tr>\n",
       "      <th>Pancreas_fraction</th>\n",
       "      <td>-0.448462</td>\n",
       "      <td>0.652646</td>\n",
       "      <td>0.405155</td>\n",
       "      <td>-0.009885</td>\n",
       "      <td>0.155552</td>\n",
       "      <td>-0.327981</td>\n",
       "      <td>-0.535598</td>\n",
       "      <td>-0.422206</td>\n",
       "      <td>1.000000</td>\n",
       "      <td>0.263631</td>\n",
       "    </tr>\n",
       "    <tr>\n",
       "      <th>Prostate_fraction</th>\n",
       "      <td>0.151760</td>\n",
       "      <td>0.287692</td>\n",
       "      <td>-0.023601</td>\n",
       "      <td>-0.417394</td>\n",
       "      <td>0.421669</td>\n",
       "      <td>-0.551119</td>\n",
       "      <td>-0.036992</td>\n",
       "      <td>0.080682</td>\n",
       "      <td>0.263631</td>\n",
       "      <td>1.000000</td>\n",
       "    </tr>\n",
       "  </tbody>\n",
       "</table>\n",
       "</div>"
      ],
      "text/plain": [
       "                                Brain/ nervous system_fraction  \\\n",
       "Brain/ nervous system_fraction                        1.000000   \n",
       "Female breast_fraction                               -0.366978   \n",
       "Colon & rectum_fraction                              -0.604899   \n",
       "Leukemia_fraction                                     0.213491   \n",
       "Liver_fraction                                        0.056993   \n",
       "Lung & bronchus_fraction                             -0.383959   \n",
       "Non-Hodgkin Lymphoma_fraction                         0.698749   \n",
       "Ovary_fraction                                        0.605681   \n",
       "Pancreas_fraction                                    -0.448462   \n",
       "Prostate_fraction                                     0.151760   \n",
       "\n",
       "                                Female breast_fraction  \\\n",
       "Brain/ nervous system_fraction               -0.366978   \n",
       "Female breast_fraction                        1.000000   \n",
       "Colon & rectum_fraction                       0.396417   \n",
       "Leukemia_fraction                            -0.123594   \n",
       "Liver_fraction                                0.309241   \n",
       "Lung & bronchus_fraction                     -0.509097   \n",
       "Non-Hodgkin Lymphoma_fraction                -0.336884   \n",
       "Ovary_fraction                               -0.151219   \n",
       "Pancreas_fraction                             0.652646   \n",
       "Prostate_fraction                             0.287692   \n",
       "\n",
       "                                Colon & rectum_fraction  Leukemia_fraction  \\\n",
       "Brain/ nervous system_fraction                -0.604899           0.213491   \n",
       "Female breast_fraction                         0.396417          -0.123594   \n",
       "Colon & rectum_fraction                        1.000000           0.072921   \n",
       "Leukemia_fraction                              0.072921           1.000000   \n",
       "Liver_fraction                                -0.163372          -0.696308   \n",
       "Lung & bronchus_fraction                       0.018272          -0.034846   \n",
       "Non-Hodgkin Lymphoma_fraction                 -0.559269           0.165775   \n",
       "Ovary_fraction                                -0.559201           0.105606   \n",
       "Pancreas_fraction                              0.405155          -0.009885   \n",
       "Prostate_fraction                             -0.023601          -0.417394   \n",
       "\n",
       "                                Liver_fraction  Lung & bronchus_fraction  \\\n",
       "Brain/ nervous system_fraction        0.056993                 -0.383959   \n",
       "Female breast_fraction                0.309241                 -0.509097   \n",
       "Colon & rectum_fraction              -0.163372                  0.018272   \n",
       "Leukemia_fraction                    -0.696308                 -0.034846   \n",
       "Liver_fraction                        1.000000                 -0.521070   \n",
       "Lung & bronchus_fraction             -0.521070                  1.000000   \n",
       "Non-Hodgkin Lymphoma_fraction         0.157121                 -0.423566   \n",
       "Ovary_fraction                        0.221984                 -0.515982   \n",
       "Pancreas_fraction                     0.155552                 -0.327981   \n",
       "Prostate_fraction                     0.421669                 -0.551119   \n",
       "\n",
       "                                Non-Hodgkin Lymphoma_fraction  Ovary_fraction  \\\n",
       "Brain/ nervous system_fraction                       0.698749        0.605681   \n",
       "Female breast_fraction                              -0.336884       -0.151219   \n",
       "Colon & rectum_fraction                             -0.559269       -0.559201   \n",
       "Leukemia_fraction                                    0.165775        0.105606   \n",
       "Liver_fraction                                       0.157121        0.221984   \n",
       "Lung & bronchus_fraction                            -0.423566       -0.515982   \n",
       "Non-Hodgkin Lymphoma_fraction                        1.000000        0.856492   \n",
       "Ovary_fraction                                       0.856492        1.000000   \n",
       "Pancreas_fraction                                   -0.535598       -0.422206   \n",
       "Prostate_fraction                                   -0.036992        0.080682   \n",
       "\n",
       "                                Pancreas_fraction  Prostate_fraction  \n",
       "Brain/ nervous system_fraction          -0.448462           0.151760  \n",
       "Female breast_fraction                   0.652646           0.287692  \n",
       "Colon & rectum_fraction                  0.405155          -0.023601  \n",
       "Leukemia_fraction                       -0.009885          -0.417394  \n",
       "Liver_fraction                           0.155552           0.421669  \n",
       "Lung & bronchus_fraction                -0.327981          -0.551119  \n",
       "Non-Hodgkin Lymphoma_fraction           -0.535598          -0.036992  \n",
       "Ovary_fraction                          -0.422206           0.080682  \n",
       "Pancreas_fraction                        1.000000           0.263631  \n",
       "Prostate_fraction                        0.263631           1.000000  "
      ]
     },
     "execution_count": 28,
     "metadata": {},
     "output_type": "execute_result"
    }
   ],
   "source": [
    "df[cancer_names_fraction].corr()"
   ]
  },
  {
   "cell_type": "code",
   "execution_count": 29,
   "metadata": {},
   "outputs": [
    {
     "data": {
      "text/plain": [
       "<matplotlib.axes._subplots.AxesSubplot at 0x11d8c9e20>"
      ]
     },
     "execution_count": 29,
     "metadata": {},
     "output_type": "execute_result"
    },
    {
     "data": {
      "image/png": "[encoded data removed]",
      "text/plain": [
       "<Figure size 432x288 with 2 Axes>"
      ]
     },
     "metadata": {
      "needs_background": "light"
     },
     "output_type": "display_data"
    }
   ],
   "source": [
    "#kaip koreliuoja susirgimų count per skirtingas valstijas, vertės išreikštos fractions\n",
    "sns.heatmap(df[cancer_names_fraction].corr(), cmap='twilight', annot=True)\n"
   ]
  },
  {
   "cell_type": "code",
   "execution_count": 30,
   "metadata": {},
   "outputs": [
    {
     "data": {
      "image/png": "[encoded data removed]",
      "text/plain": [
       "<Figure size 432x288 with 1 Axes>"
      ]
     },
     "metadata": {
      "needs_background": "light"
     },
     "output_type": "display_data"
    },
    {
     "data": {
      "image/png": "[encoded data removed]",
      "text/plain": [
       "<Figure size 432x288 with 1 Axes>"
      ]
     },
     "metadata": {
      "needs_background": "light"
     },
     "output_type": "display_data"
    }
   ],
   "source": [
    "#pažiūriu kaip išsideėtę leukemijos susirgimai pagal suformuotus rėžius\n",
    "chart = sns.scatterplot(df['State'].iloc[:25], df['all'].iloc[:25], hue=df['Leukemia_cat'])\n",
    "_ = plt.xticks(rotation=90)\n",
    "fig = plt.figure()\n",
    "chart = sns.scatterplot(df['State'].iloc[25:], df['all'].iloc[25:], hue=df['Leukemia_cat'])\n",
    "_ = plt.xticks(rotation=90)"
   ]
  },
  {
   "cell_type": "code",
   "execution_count": 31,
   "metadata": {},
   "outputs": [
    {
     "data": {
      "text/plain": [
       "Brain/ nervous system              250.000000\n",
       "Female breast                      570.000000\n",
       "Colon & rectum                     710.000000\n",
       "Leukemia                           340.000000\n",
       "Liver                              390.000000\n",
       "Lung & bronchus                   2450.000000\n",
       "Non-Hodgkin Lymphoma               290.000000\n",
       "Ovary                              200.000000\n",
       "Pancreas                           580.000000\n",
       "Prostate                           370.000000\n",
       "all                               5930.000000\n",
       "Brain/ nervous system_fraction       0.038993\n",
       "Female breast_fraction               0.093596\n",
       "Colon & rectum_fraction              0.120332\n",
       "Leukemia_fraction                    0.057762\n",
       "Liver_fraction                       0.061648\n",
       "Lung & bronchus_fraction             0.383521\n",
       "Non-Hodgkin Lymphoma_fraction        0.046829\n",
       "Ovary_fraction                       0.032342\n",
       "Pancreas_fraction                    0.102740\n",
       "Prostate_fraction                    0.062918\n",
       "dtype: float64"
      ]
     },
     "execution_count": 31,
     "metadata": {},
     "output_type": "execute_result"
    }
   ],
   "source": [
    "df.median()"
   ]
  },
  {
   "cell_type": "code",
   "execution_count": 32,
   "metadata": {},
   "outputs": [
    {
     "data": {
      "text/plain": [
       "Brain/ nervous system              345.249555\n",
       "Female breast                      860.788421\n",
       "Colon & rectum                    1039.502483\n",
       "Leukemia                           511.012682\n",
       "Liver                              684.018576\n",
       "Lung & bronchus                   2900.622340\n",
       "Non-Hodgkin Lymphoma               426.128490\n",
       "Ovary                              297.908000\n",
       "Pancreas                           891.561222\n",
       "Prostate                           569.156652\n",
       "all                               8443.298468\n",
       "Brain/ nervous system_fraction       0.012547\n",
       "Female breast_fraction               0.012899\n",
       "Colon & rectum_fraction              0.013635\n",
       "Leukemia_fraction                    0.016386\n",
       "Liver_fraction                       0.020152\n",
       "Lung & bronchus_fraction             0.047263\n",
       "Non-Hodgkin Lymphoma_fraction        0.014918\n",
       "Ovary_fraction                       0.011691\n",
       "Pancreas_fraction                    0.013119\n",
       "Prostate_fraction                    0.015246\n",
       "dtype: float64"
      ]
     },
     "execution_count": 32,
     "metadata": {},
     "output_type": "execute_result"
    }
   ],
   "source": [
    "df.std()"
   ]
  },
  {
   "cell_type": "code",
   "execution_count": 33,
   "metadata": {},
   "outputs": [
    {
     "data": {
      "text/plain": [
       "State                               Alabama\n",
       "Brain/ nervous system                     0\n",
       "Female breast                            60\n",
       "Colon & rectum                           80\n",
       "Leukemia                                  0\n",
       "Liver                                     0\n",
       "Lung & bronchus                         220\n",
       "Non-Hodgkin Lymphoma                      0\n",
       "Ovary                                     0\n",
       "Pancreas                                 70\n",
       "Prostate                                  0\n",
       "all                                     490\n",
       "Leukemia_cat                          cat_0\n",
       "Brain/ nervous system_fraction            0\n",
       "Female breast_fraction            0.0762332\n",
       "Colon & rectum_fraction           0.0986547\n",
       "Leukemia_fraction                         0\n",
       "Liver_fraction                            0\n",
       "Lung & bronchus_fraction           0.214953\n",
       "Non-Hodgkin Lymphoma_fraction             0\n",
       "Ovary_fraction                            0\n",
       "Pancreas_fraction                 0.0843373\n",
       "Prostate_fraction                         0\n",
       "dtype: object"
      ]
     },
     "execution_count": 33,
     "metadata": {},
     "output_type": "execute_result"
    }
   ],
   "source": [
    "df.min()"
   ]
  },
  {
   "cell_type": "code",
   "execution_count": 34,
   "metadata": {},
   "outputs": [
    {
     "data": {
      "text/plain": [
       "State                               Wyoming\n",
       "Brain/ nervous system                  1830\n",
       "Female breast                          4440\n",
       "Colon & rectum                         5240\n",
       "Leukemia                               2610\n",
       "Liver                                  3750\n",
       "Lung & bronchus                       12000\n",
       "Non-Hodgkin Lymphoma                   2140\n",
       "Ovary                                  1530\n",
       "Pancreas                               4510\n",
       "Prostate                               3130\n",
       "all                                   41180\n",
       "Leukemia_cat                          cat_2\n",
       "Brain/ nervous system_fraction    0.0607477\n",
       "Female breast_fraction             0.149254\n",
       "Colon & rectum_fraction            0.163265\n",
       "Leukemia_fraction                  0.122449\n",
       "Liver_fraction                     0.134328\n",
       "Lung & bronchus_fraction           0.472776\n",
       "Non-Hodgkin Lymphoma_fraction     0.0576071\n",
       "Ovary_fraction                     0.046729\n",
       "Pancreas_fraction                  0.149254\n",
       "Prostate_fraction                  0.104478\n",
       "dtype: object"
      ]
     },
     "execution_count": 34,
     "metadata": {},
     "output_type": "execute_result"
    }
   ],
   "source": [
    "df.max()"
   ]
  },
  {
   "cell_type": "code",
   "execution_count": 35,
   "metadata": {},
   "outputs": [
    {
     "data": {
      "text/html": [
       "<div>\n",
       "<style scoped>\n",
       "    .dataframe tbody tr th:only-of-type {\n",
       "        vertical-align: middle;\n",
       "    }\n",
       "\n",
       "    .dataframe tbody tr th {\n",
       "        vertical-align: top;\n",
       "    }\n",
       "\n",
       "    .dataframe thead th {\n",
       "        text-align: right;\n",
       "    }\n",
       "</style>\n",
       "<table border=\"1\" class=\"dataframe\">\n",
       "  <thead>\n",
       "    <tr style=\"text-align: right;\">\n",
       "      <th></th>\n",
       "      <th>State</th>\n",
       "      <th>Brain/ nervous system</th>\n",
       "      <th>Female breast</th>\n",
       "      <th>Colon &amp; rectum</th>\n",
       "      <th>Leukemia</th>\n",
       "      <th>Liver</th>\n",
       "      <th>Lung &amp; bronchus</th>\n",
       "      <th>Non-Hodgkin Lymphoma</th>\n",
       "      <th>Ovary</th>\n",
       "      <th>Pancreas</th>\n",
       "      <th>...</th>\n",
       "      <th>Brain/ nervous system_fraction</th>\n",
       "      <th>Female breast_fraction</th>\n",
       "      <th>Colon &amp; rectum_fraction</th>\n",
       "      <th>Leukemia_fraction</th>\n",
       "      <th>Liver_fraction</th>\n",
       "      <th>Lung &amp; bronchus_fraction</th>\n",
       "      <th>Non-Hodgkin Lymphoma_fraction</th>\n",
       "      <th>Ovary_fraction</th>\n",
       "      <th>Pancreas_fraction</th>\n",
       "      <th>Prostate_fraction</th>\n",
       "    </tr>\n",
       "  </thead>\n",
       "  <tbody>\n",
       "    <tr>\n",
       "      <th>4</th>\n",
       "      <td>California</td>\n",
       "      <td>1830</td>\n",
       "      <td>4440</td>\n",
       "      <td>5240</td>\n",
       "      <td>2610</td>\n",
       "      <td>3750</td>\n",
       "      <td>12000</td>\n",
       "      <td>2140</td>\n",
       "      <td>1530</td>\n",
       "      <td>4510</td>\n",
       "      <td>...</td>\n",
       "      <td>0.044439</td>\n",
       "      <td>0.107819</td>\n",
       "      <td>0.127246</td>\n",
       "      <td>0.063380</td>\n",
       "      <td>0.091064</td>\n",
       "      <td>0.291404</td>\n",
       "      <td>0.051967</td>\n",
       "      <td>0.037154</td>\n",
       "      <td>0.109519</td>\n",
       "      <td>0.076008</td>\n",
       "    </tr>\n",
       "    <tr>\n",
       "      <th>9</th>\n",
       "      <td>Florida</td>\n",
       "      <td>1250</td>\n",
       "      <td>2910</td>\n",
       "      <td>3620</td>\n",
       "      <td>1800</td>\n",
       "      <td>2020</td>\n",
       "      <td>11790</td>\n",
       "      <td>1510</td>\n",
       "      <td>970</td>\n",
       "      <td>3170</td>\n",
       "      <td>...</td>\n",
       "      <td>0.040206</td>\n",
       "      <td>0.093599</td>\n",
       "      <td>0.116436</td>\n",
       "      <td>0.057896</td>\n",
       "      <td>0.064973</td>\n",
       "      <td>0.379222</td>\n",
       "      <td>0.048569</td>\n",
       "      <td>0.031200</td>\n",
       "      <td>0.101962</td>\n",
       "      <td>0.065938</td>\n",
       "    </tr>\n",
       "    <tr>\n",
       "      <th>43</th>\n",
       "      <td>Texas</td>\n",
       "      <td>1100</td>\n",
       "      <td>2830</td>\n",
       "      <td>3700</td>\n",
       "      <td>1690</td>\n",
       "      <td>2620</td>\n",
       "      <td>9540</td>\n",
       "      <td>1380</td>\n",
       "      <td>920</td>\n",
       "      <td>2780</td>\n",
       "      <td>...</td>\n",
       "      <td>0.038993</td>\n",
       "      <td>0.100319</td>\n",
       "      <td>0.131159</td>\n",
       "      <td>0.059908</td>\n",
       "      <td>0.092875</td>\n",
       "      <td>0.338178</td>\n",
       "      <td>0.048919</td>\n",
       "      <td>0.032613</td>\n",
       "      <td>0.098547</td>\n",
       "      <td>0.058490</td>\n",
       "    </tr>\n",
       "  </tbody>\n",
       "</table>\n",
       "<p>3 rows × 23 columns</p>\n",
       "</div>"
      ],
      "text/plain": [
       "         State  Brain/ nervous system  Female breast  Colon & rectum  \\\n",
       "4   California                   1830           4440            5240   \n",
       "9      Florida                   1250           2910            3620   \n",
       "43       Texas                   1100           2830            3700   \n",
       "\n",
       "    Leukemia  Liver  Lung & bronchus  Non-Hodgkin Lymphoma  Ovary  Pancreas  \\\n",
       "4       2610   3750            12000                  2140   1530      4510   \n",
       "9       1800   2020            11790                  1510    970      3170   \n",
       "43      1690   2620             9540                  1380    920      2780   \n",
       "\n",
       "    ...  Brain/ nervous system_fraction  Female breast_fraction  \\\n",
       "4   ...                        0.044439                0.107819   \n",
       "9   ...                        0.040206                0.093599   \n",
       "43  ...                        0.038993                0.100319   \n",
       "\n",
       "   Colon & rectum_fraction  Leukemia_fraction  Liver_fraction  \\\n",
       "4                 0.127246           0.063380        0.091064   \n",
       "9                 0.116436           0.057896        0.064973   \n",
       "43                0.131159           0.059908        0.092875   \n",
       "\n",
       "    Lung & bronchus_fraction  Non-Hodgkin Lymphoma_fraction  Ovary_fraction  \\\n",
       "4                   0.291404                       0.051967        0.037154   \n",
       "9                   0.379222                       0.048569        0.031200   \n",
       "43                  0.338178                       0.048919        0.032613   \n",
       "\n",
       "    Pancreas_fraction  Prostate_fraction  \n",
       "4            0.109519           0.076008  \n",
       "9            0.101962           0.065938  \n",
       "43           0.098547           0.058490  \n",
       "\n",
       "[3 rows x 23 columns]"
      ]
     },
     "execution_count": 35,
     "metadata": {},
     "output_type": "execute_result"
    }
   ],
   "source": [
    "#pasitikrinimas ar tikrai yra toks outlieris\n",
    "df.query('Leukemia > 1500')"
   ]
  },
  {
   "cell_type": "code",
   "execution_count": 36,
   "metadata": {},
   "outputs": [
    {
     "data": {
      "text/plain": [
       "<matplotlib.axes._subplots.AxesSubplot at 0x11dff8ee0>"
      ]
     },
     "execution_count": 36,
     "metadata": {},
     "output_type": "execute_result"
    },
    {
     "data": {
      "image/png": "[encoded data removed]",
      "text/plain": [
       "<Figure size 1440x648 with 1 Axes>"
      ]
     },
     "metadata": {
      "needs_background": "light"
     },
     "output_type": "display_data"
    }
   ],
   "source": [
    "plt.figure(figsize=(20, 9))\n",
    "sns.boxplot(df['Leukemia_cat'], df['Leukemia'])"
   ]
  },
  {
   "cell_type": "code",
   "execution_count": 37,
   "metadata": {},
   "outputs": [
    {
     "data": {
      "text/plain": [
       "(array([24., 17.,  5.,  1.,  1.,  1.,  1.,  0.,  0.,  1.]),\n",
       " array([   0.,  375.,  750., 1125., 1500., 1875., 2250., 2625., 3000.,\n",
       "        3375., 3750.]),\n",
       " <a list of 10 Patch objects>)"
      ]
     },
     "execution_count": 37,
     "metadata": {},
     "output_type": "execute_result"
    },
    {
     "data": {
      "image/png": "[encoded data removed]",
      "text/plain": [
       "<Figure size 432x288 with 1 Axes>"
      ]
     },
     "metadata": {
      "needs_background": "light"
     },
     "output_type": "display_data"
    },
    {
     "data": {
      "image/png": "[encoded data removed]",
      "text/plain": [
       "<Figure size 432x288 with 1 Axes>"
      ]
     },
     "metadata": {
      "needs_background": "light"
     },
     "output_type": "display_data"
    }
   ],
   "source": [
    "#norėjau pažiūrėt leukemia ir liver susirgimų kiekius\n",
    "plt.hist(df['Leukemia'])\n",
    "plt.figure()\n",
    "plt.hist(df['Liver'])"
   ]
  },
  {
   "cell_type": "code",
   "execution_count": 38,
   "metadata": {},
   "outputs": [
    {
     "data": {
      "text/plain": [
       "2.229123012533517"
      ]
     },
     "execution_count": 38,
     "metadata": {},
     "output_type": "execute_result"
    }
   ],
   "source": [
    "df.skew()['Leukemia']"
   ]
  },
  {
   "cell_type": "code",
   "execution_count": 39,
   "metadata": {},
   "outputs": [
    {
     "data": {
      "text/plain": [
       "2.8645362796173073"
      ]
     },
     "execution_count": 39,
     "metadata": {},
     "output_type": "execute_result"
    }
   ],
   "source": [
    "df.skew()['Liver']"
   ]
  },
  {
   "cell_type": "code",
   "execution_count": 40,
   "metadata": {},
   "outputs": [
    {
     "data": {
      "text/plain": [
       "5.931209754054345"
      ]
     },
     "execution_count": 40,
     "metadata": {},
     "output_type": "execute_result"
    }
   ],
   "source": [
    "df.kurtosis()['Leukemia']\n"
   ]
  },
  {
   "cell_type": "code",
   "execution_count": 41,
   "metadata": {},
   "outputs": [
    {
     "data": {
      "text/plain": [
       "9.98969404083102"
      ]
     },
     "execution_count": 41,
     "metadata": {},
     "output_type": "execute_result"
    }
   ],
   "source": [
    "df.kurtosis()['Liver']\n",
    "\n"
   ]
  },
  {
   "cell_type": "code",
   "execution_count": 42,
   "metadata": {},
   "outputs": [
    {
     "data": {
      "text/html": [
       "<div>\n",
       "<style scoped>\n",
       "    .dataframe tbody tr th:only-of-type {\n",
       "        vertical-align: middle;\n",
       "    }\n",
       "\n",
       "    .dataframe tbody tr th {\n",
       "        vertical-align: top;\n",
       "    }\n",
       "\n",
       "    .dataframe thead th {\n",
       "        text-align: right;\n",
       "    }\n",
       "</style>\n",
       "<table border=\"1\" class=\"dataframe\">\n",
       "  <thead>\n",
       "    <tr style=\"text-align: right;\">\n",
       "      <th></th>\n",
       "      <th>mean</th>\n",
       "      <th>median</th>\n",
       "    </tr>\n",
       "  </thead>\n",
       "  <tbody>\n",
       "    <tr>\n",
       "      <th>Brain/ nervous system</th>\n",
       "      <td>324.509804</td>\n",
       "      <td>250.000000</td>\n",
       "    </tr>\n",
       "    <tr>\n",
       "      <th>Female breast</th>\n",
       "      <td>795.882353</td>\n",
       "      <td>570.000000</td>\n",
       "    </tr>\n",
       "    <tr>\n",
       "      <th>Colon &amp; rectum</th>\n",
       "      <td>985.294118</td>\n",
       "      <td>710.000000</td>\n",
       "    </tr>\n",
       "    <tr>\n",
       "      <th>Leukemia</th>\n",
       "      <td>479.803922</td>\n",
       "      <td>340.000000</td>\n",
       "    </tr>\n",
       "    <tr>\n",
       "      <th>Liver</th>\n",
       "      <td>565.294118</td>\n",
       "      <td>390.000000</td>\n",
       "    </tr>\n",
       "    <tr>\n",
       "      <th>Lung &amp; bronchus</th>\n",
       "      <td>3056.862745</td>\n",
       "      <td>2450.000000</td>\n",
       "    </tr>\n",
       "    <tr>\n",
       "      <th>Non-Hodgkin Lymphoma</th>\n",
       "      <td>391.568627</td>\n",
       "      <td>290.000000</td>\n",
       "    </tr>\n",
       "    <tr>\n",
       "      <th>Ovary</th>\n",
       "      <td>272.941176</td>\n",
       "      <td>200.000000</td>\n",
       "    </tr>\n",
       "    <tr>\n",
       "      <th>Pancreas</th>\n",
       "      <td>845.294118</td>\n",
       "      <td>580.000000</td>\n",
       "    </tr>\n",
       "    <tr>\n",
       "      <th>Prostate</th>\n",
       "      <td>523.529412</td>\n",
       "      <td>370.000000</td>\n",
       "    </tr>\n",
       "    <tr>\n",
       "      <th>all</th>\n",
       "      <td>8240.980392</td>\n",
       "      <td>5930.000000</td>\n",
       "    </tr>\n",
       "    <tr>\n",
       "      <th>Brain/ nervous system_fraction</th>\n",
       "      <td>0.037385</td>\n",
       "      <td>0.038993</td>\n",
       "    </tr>\n",
       "    <tr>\n",
       "      <th>Female breast_fraction</th>\n",
       "      <td>0.095507</td>\n",
       "      <td>0.093596</td>\n",
       "    </tr>\n",
       "    <tr>\n",
       "      <th>Colon &amp; rectum_fraction</th>\n",
       "      <td>0.121743</td>\n",
       "      <td>0.120332</td>\n",
       "    </tr>\n",
       "    <tr>\n",
       "      <th>Leukemia_fraction</th>\n",
       "      <td>0.057665</td>\n",
       "      <td>0.057762</td>\n",
       "    </tr>\n",
       "    <tr>\n",
       "      <th>Liver_fraction</th>\n",
       "      <td>0.064636</td>\n",
       "      <td>0.061648</td>\n",
       "    </tr>\n",
       "    <tr>\n",
       "      <th>Lung &amp; bronchus_fraction</th>\n",
       "      <td>0.381336</td>\n",
       "      <td>0.383521</td>\n",
       "    </tr>\n",
       "    <tr>\n",
       "      <th>Non-Hodgkin Lymphoma_fraction</th>\n",
       "      <td>0.042753</td>\n",
       "      <td>0.046829</td>\n",
       "    </tr>\n",
       "    <tr>\n",
       "      <th>Ovary_fraction</th>\n",
       "      <td>0.029276</td>\n",
       "      <td>0.032342</td>\n",
       "    </tr>\n",
       "    <tr>\n",
       "      <th>Pancreas_fraction</th>\n",
       "      <td>0.104706</td>\n",
       "      <td>0.102740</td>\n",
       "    </tr>\n",
       "    <tr>\n",
       "      <th>Prostate_fraction</th>\n",
       "      <td>0.064994</td>\n",
       "      <td>0.062918</td>\n",
       "    </tr>\n",
       "  </tbody>\n",
       "</table>\n",
       "</div>"
      ],
      "text/plain": [
       "                                       mean       median\n",
       "Brain/ nervous system            324.509804   250.000000\n",
       "Female breast                    795.882353   570.000000\n",
       "Colon & rectum                   985.294118   710.000000\n",
       "Leukemia                         479.803922   340.000000\n",
       "Liver                            565.294118   390.000000\n",
       "Lung & bronchus                 3056.862745  2450.000000\n",
       "Non-Hodgkin Lymphoma             391.568627   290.000000\n",
       "Ovary                            272.941176   200.000000\n",
       "Pancreas                         845.294118   580.000000\n",
       "Prostate                         523.529412   370.000000\n",
       "all                             8240.980392  5930.000000\n",
       "Brain/ nervous system_fraction     0.037385     0.038993\n",
       "Female breast_fraction             0.095507     0.093596\n",
       "Colon & rectum_fraction            0.121743     0.120332\n",
       "Leukemia_fraction                  0.057665     0.057762\n",
       "Liver_fraction                     0.064636     0.061648\n",
       "Lung & bronchus_fraction           0.381336     0.383521\n",
       "Non-Hodgkin Lymphoma_fraction      0.042753     0.046829\n",
       "Ovary_fraction                     0.029276     0.032342\n",
       "Pancreas_fraction                  0.104706     0.102740\n",
       "Prostate_fraction                  0.064994     0.062918"
      ]
     },
     "execution_count": 42,
     "metadata": {},
     "output_type": "execute_result"
    }
   ],
   "source": [
    "mm = pd.DataFrame()\n",
    "mm['mean'] = df.mean()\n",
    "mm['median'] = df.median()\n",
    "mm"
   ]
  },
  {
   "cell_type": "markdown",
   "metadata": {},
   "source": [
    "# IŠVADOS, HIPOTEZĖS PATVIRTINIMAS: \n",
    "(pristatyta skaidrėse).\n",
    "\n"
   ]
  },
  {
   "cell_type": "markdown",
   "metadata": {},
   "source": [
    "# IDĖJOS TOLIMESNIAM DARBUI: \n",
    "\n",
    "jei turėčiau dataset'ą po 5 metų, galėčiau patikrinti kaip kistų vėžinių susirgimų pasiskirstymas."
   ]
  },
  {
   "cell_type": "markdown",
   "metadata": {},
   "source": [
    "# NAUJŲ KINTAMŲJŲ SUKŪRIMAS: \n",
    "\n",
    "buvo sukurta Leukemia_cat, kad suskirstyti pagal norimus rėžius."
   ]
  }
 ],
 "metadata": {
  "kernelspec": {
   "display_name": "Python 3",
   "language": "python",
   "name": "python3"
  },
  "language_info": {
   "codemirror_mode": {
    "name": "ipython",
    "version": 3
   },
   "file_extension": ".py",
   "mimetype": "text/x-python",
   "name": "python",
   "nbconvert_exporter": "python",
   "pygments_lexer": "ipython3",
   "version": "3.8.2"
  }
 },
 "nbformat": 4,
 "nbformat_minor": 4
}
